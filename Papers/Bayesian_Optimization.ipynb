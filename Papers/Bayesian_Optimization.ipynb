{
 "cells": [
  {
   "cell_type": "code",
   "execution_count": null,
   "metadata": {},
   "outputs": [],
   "source": [
    "import lightgbm as lgb\n",
    "from bayes_opt import BayesianOptimization\n",
    "from sklearn import metrics"
   ]
  },
  {
   "cell_type": "code",
   "execution_count": null,
   "metadata": {},
   "outputs": [],
   "source": [
    "def model1_mape(num_leaves, learning_rate, n_estimators, max_depth, min_child_samples,bagging_freq): # 하이퍼파라미터\n",
    "    model1 = lgb.LGBMRegressor(objective = 'regression', \n",
    "                              boosting = 'gbdt',\n",
    "                              num_leaves = int(num_leaves), #정수로 넣어야하는 파라미터들은 int\n",
    "                              learning_rate = learning_rate,\n",
    "                              n_estimators = int(n_estimators), \n",
    "                              max_depth = int(max_depth),\n",
    "                              min_child_samples = int(min_child_samples),\n",
    "                              #feature_fraction = feature_fraction,\n",
    "                              #bagging_fraction = bagging_fraction,\n",
    "                              bagging_freq = int(bagging_freq)\n",
    "                              \n",
    "                              )\n",
    "    model1.fit(X1_train, y1_train) #트레인 셋\n",
    "    y1_pred = model1.predict(X1_test) \n",
    "    mape = mean_absolute_percentage_error(np.exp(y1_test), np.exp(y1_pred)) #loss-function\n",
    "    return -mape\n",
    "    #mse로 바꾸고 싶으면 mape 부분 바꾸면 될듯\n",
    "pbounds1 = {'num_leaves': (150, 300), \n",
    "           'learning_rate': (0.01, 0.2),\n",
    "          'n_estimators': (400, 600),\n",
    "            'max_depth' : (1,50),\n",
    "            'min_child_samples' : (1,50),\n",
    "            #'feature_fraction' : (0.8, 0.9),\n",
    "           #'bagging_fraction' : (0.7, 0.8),\n",
    "           'bagging_freq': (3,8)\n",
    "           \n",
    "           }"
   ]
  },
  {
   "cell_type": "code",
   "execution_count": null,
   "metadata": {},
   "outputs": [],
   "source": [
    "bayesmodel1 = BayesianOptimization(f = model1_mape, pbounds = pbounds1, verbose = 2, random_state = 3)\n",
    "bayesmodel1.maximize(init_points=2, n_iter = 100)"
   ]
  },
  {
   "cell_type": "markdown",
   "metadata": {},
   "source": [
    "# 아래 코드에서 출력하는 max값을 모델에 숫자 대입"
   ]
  },
  {
   "cell_type": "code",
   "execution_count": null,
   "metadata": {},
   "outputs": [],
   "source": [
    "bayesmodel1.max"
   ]
  },
  {
   "cell_type": "code",
   "execution_count": null,
   "metadata": {},
   "outputs": [],
   "source": [
    "model1 = lgb.LGBMRegressor(objective = 'regression', \n",
    "                              boosting = 'gbdt',\n",
    "                              num_leaves = 40 ,\n",
    "                              learning_rate = 0.06284952600628144,\n",
    "                              n_estimators = 554, \n",
    "                              max_depth = 7,\n",
    "                              min_child_samples = 17,\n",
    "                              \n",
    "                              )\n",
    "model1.fit(X1_train, y1_train)"
   ]
  },
  {
   "cell_type": "code",
   "execution_count": null,
   "metadata": {},
   "outputs": [],
   "source": [
    "y1_pred = model1.predict(X1_test)\n",
    "print (\"MSE :\", metrics.mean_squared_error(np.exp(y1_test), np.exp(y1_pred)))\n",
    "print(\"R squared :\", metrics.r2_score(np.exp(y1_test), np.exp(y1_pred)))\n",
    "print(mean_absolute_percentage_error(np.exp(y1_test), np.exp(y1_pred)))"
   ]
  },
  {
   "cell_type": "code",
   "execution_count": null,
   "metadata": {},
   "outputs": [],
   "source": [
    "y1_train_pred = model1.predict(X1_train)\n",
    "print (\"MSE :\", metrics.mean_squared_error(np.exp(y1_train), np.exp(y1_train_pred)))\n",
    "print(\"R squared :\", metrics.r2_score(np.exp(y1_train), np.exp(y1_train_pred)))\n",
    "print(mean_absolute_percentage_error(np.exp(y1_train), np.exp(y1_train_pred)))"
   ]
  },
  {
   "cell_type": "code",
   "execution_count": null,
   "metadata": {},
   "outputs": [],
   "source": []
  },
  {
   "cell_type": "code",
   "execution_count": null,
   "metadata": {},
   "outputs": [],
   "source": []
  }
 ],
 "metadata": {
  "kernelspec": {
   "display_name": "Python 3",
   "language": "python",
   "name": "python3"
  },
  "language_info": {
   "codemirror_mode": {
    "name": "ipython",
    "version": 3
   },
   "file_extension": ".py",
   "mimetype": "text/x-python",
   "name": "python",
   "nbconvert_exporter": "python",
   "pygments_lexer": "ipython3",
   "version": "3.7.4"
  }
 },
 "nbformat": 4,
 "nbformat_minor": 4
}
